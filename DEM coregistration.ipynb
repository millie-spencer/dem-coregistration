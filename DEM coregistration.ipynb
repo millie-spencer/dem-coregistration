{
 "cells": [
  {
   "cell_type": "markdown",
   "metadata": {},
   "source": [
    "# DEM co-registration tutorial\n",
    "\n",
    "When comparing two different elevation models, it is important to ensure that the elevation models are not shifted relative to each other. Small horizontal and vertical shifts between the two elevation models introduce biases that lead to inaccurate estimation of the differences between the two elevation models. Fortunately, by comparing the elevation differences with the slope and aspect of the points where the differences are measured, we can model and remove these shifts, leading to more accurate estimations of the differences between two elevation models. Further details can be found in [Nuth and Kääb (2011)](https://www.the-cryosphere.net/5/271/2011/tc-5-271-2011.html).\n",
    "\n",
    "This walkthrough provides a step-by-step illustration of the method for co-registration, using [pybob](https://pybob.readthedocs.io). You can re-use this example with your own data, or use the scripts and functions provided by pybob (see the documentation for more info)."
   ]
  },
  {
   "cell_type": "code",
   "execution_count": 1,
   "metadata": {},
   "outputs": [
    {
     "ename": "ModuleNotFoundError",
     "evalue": "No module named 'pybob'",
     "output_type": "error",
     "traceback": [
      "\u001b[0;31m---------------------------------------------------------------------------\u001b[0m",
      "\u001b[0;31mModuleNotFoundError\u001b[0m                       Traceback (most recent call last)",
      "Cell \u001b[0;32mIn[1], line 1\u001b[0m\n\u001b[0;32m----> 1\u001b[0m \u001b[38;5;28;01mimport\u001b[39;00m \u001b[38;5;21;01mpybob\u001b[39;00m\n\u001b[1;32m      2\u001b[0m \u001b[38;5;28mprint\u001b[39m(\u001b[38;5;124mf\u001b[39m\u001b[38;5;124m\"\u001b[39m\u001b[38;5;124mPyBob version: \u001b[39m\u001b[38;5;132;01m{\u001b[39;00mpybob\u001b[38;5;241m.\u001b[39m__version__\u001b[38;5;132;01m}\u001b[39;00m\u001b[38;5;124m\"\u001b[39m)\n",
      "\u001b[0;31mModuleNotFoundError\u001b[0m: No module named 'pybob'"
     ]
    }
   ],
   "source": [
    "import pybob\n",
    "print(f\"PyBob version: {pybob.__version__}\")"
   ]
  },
  {
   "cell_type": "code",
   "execution_count": 2,
   "metadata": {},
   "outputs": [
    {
     "ename": "ModuleNotFoundError",
     "evalue": "No module named 'pybob'",
     "output_type": "error",
     "traceback": [
      "\u001b[0;31m---------------------------------------------------------------------------\u001b[0m",
      "\u001b[0;31mModuleNotFoundError\u001b[0m                       Traceback (most recent call last)",
      "Cell \u001b[0;32mIn[2], line 4\u001b[0m\n\u001b[1;32m      1\u001b[0m get_ipython()\u001b[38;5;241m.\u001b[39mrun_line_magic(\u001b[38;5;124m'\u001b[39m\u001b[38;5;124mmatplotlib\u001b[39m\u001b[38;5;124m'\u001b[39m, \u001b[38;5;124m'\u001b[39m\u001b[38;5;124mnotebook\u001b[39m\u001b[38;5;124m'\u001b[39m)\n\u001b[1;32m      3\u001b[0m \u001b[38;5;66;03m# imports - have to read the data, run individual steps, and show the results\u001b[39;00m\n\u001b[0;32m----> 4\u001b[0m \u001b[38;5;28;01mfrom\u001b[39;00m \u001b[38;5;21;01mpybob\u001b[39;00m\u001b[38;5;21;01m.\u001b[39;00m\u001b[38;5;21;01mGeoImg\u001b[39;00m \u001b[38;5;28;01mimport\u001b[39;00m GeoImg\n\u001b[1;32m      5\u001b[0m \u001b[38;5;28;01mimport\u001b[39;00m \u001b[38;5;21;01mpybob\u001b[39;00m\u001b[38;5;21;01m.\u001b[39;00m\u001b[38;5;21;01mcoreg_tools\u001b[39;00m \u001b[38;5;28;01mas\u001b[39;00m \u001b[38;5;21;01mct\u001b[39;00m\n\u001b[1;32m      6\u001b[0m \u001b[38;5;28;01mfrom\u001b[39;00m \u001b[38;5;21;01mpybob\u001b[39;00m\u001b[38;5;21;01m.\u001b[39;00m\u001b[38;5;21;01mplot_tools\u001b[39;00m \u001b[38;5;28;01mimport\u001b[39;00m set_pretty_fonts\n",
      "\u001b[0;31mModuleNotFoundError\u001b[0m: No module named 'pybob'"
     ]
    }
   ],
   "source": [
    "%matplotlib notebook\n",
    "\n",
    "# imports - have to read the data, run individual steps, and show the results\n",
    "from pybob.GeoImg import GeoImg\n",
    "import pybob.coreg_tools as ct\n",
    "from pybob.plot_tools import set_pretty_fonts\n",
    "import matplotlib.pyplot as plt\n",
    "import numpy as np\n",
    "\n",
    "plt.ion()\n",
    "set_pretty_fonts(font_size=18)\n",
    "np.seterr(all='ignore')"
   ]
  },
  {
   "cell_type": "markdown",
   "metadata": {},
   "source": [
    "## Setup and initial inspection\n",
    "\n",
    "Now that we have imported the necessary modules/packages, we can start by loading the two DEMs, reprojecting the DEMs to the same spatial reference system, extent, and cell size, and calculating slope and aspect to use in the co-registration process:"
   ]
  },
  {
   "cell_type": "code",
   "execution_count": null,
   "metadata": {},
   "outputs": [],
   "source": [
    "master_dem = GeoImg('data/dem_25m_statkart.tif') # replace the filename with your own master DEM here\n",
    "slave_dem = GeoImg('data/AST14DMO_00308122004104803_DEM.tif') # replace the filename with your own slave DEM here\n",
    "\n",
    "mst_reproj = master_dem.reproject(slave_dem) # reproject master DEM to slave DEM extent, cell size\n",
    "\n",
    "slope_geo = ct.get_slope(mst_reproj) # calculate slope from master DEM\n",
    "aspect_geo = ct.get_aspect(mst_reproj) # calculate aspect from master DEM"
   ]
  },
  {
   "cell_type": "markdown",
   "metadata": {},
   "source": [
    "We can now difference the two DEMs and display the difference in a figure. What do you notice about the difference between the DEMs? Are there any patterns that jump out?"
   ]
  },
  {
   "cell_type": "code",
   "execution_count": null,
   "metadata": {},
   "outputs": [],
   "source": [
    "init_dh_geo = slave_dem.copy(new_raster=mst_reproj.img - slave_dem.img) # make a new dataset with the initial difference\n",
    "\n",
    "# display the new difference image. for more info, see the documentation\n",
    "fig1 = init_dh_geo.display(fig=plt.figure(figsize=(8,8)), cmap='RdYlBu', vmin=-20, vmax=20)\n",
    "fig1.gca().set_xlabel('utm easting (m)')\n",
    "fig1.gca().set_ylabel('utm northing (m)')\n",
    "\n",
    "# add a colorbar and set the label\n",
    "cb = plt.colorbar(); cb.set_label('elevation difference (m)')"
   ]
  },
  {
   "cell_type": "markdown",
   "metadata": {},
   "source": [
    "## First iteration\n",
    "\n",
    "Let's start the iterative co-registration process. First, we'll extract elevation change, slope, and aspect for a number of points in the overlap area, then plot the difference between the DEMs shown as a hillshade to emphasize differences on slopes."
   ]
  },
  {
   "cell_type": "code",
   "execution_count": null,
   "metadata": {},
   "outputs": [],
   "source": [
    "this_slave = slave_dem.copy() # make a copy of the slave DEM\n",
    "\n",
    "dH, xdata, ydata, sdata = ct.preprocess(np.ones(mst_reproj.img.shape) == 0, slope_geo.img, aspect_geo.img, mst_reproj, this_slave)\n",
    "fig3 = ct.false_hillshade(dH, 'DEM difference pre-coregistration')\n",
    "\n",
    "# set the shift variables to be updated during this process.\n",
    "x_shift = y_shift = z_shift = 0\n",
    "\n",
    "xadj, yadj, zadj, fig2 = ct.coreg_fitting(xdata, ydata, sdata, 'Iteration 1')"
   ]
  },
  {
   "cell_type": "markdown",
   "metadata": {},
   "source": [
    "Clearly, there are large offsets between the DEMs, as we noticed from the initial difference map. Based on this difference, we estimate a difference of approximately -42 meters in the x direction, 6 meters in the y direction, and 15 meters in the z direction. \n",
    "\n",
    "### Question: can you think of a reason why the difference in the z direction might be so high?\n",
    "\n",
    "\n",
    "Now that we have initial estimates of the offsets in the x,y, and z directions, we can shift the slave raster and look at the difference again."
   ]
  },
  {
   "cell_type": "code",
   "execution_count": null,
   "metadata": {},
   "outputs": [],
   "source": [
    "x_shift += xadj\n",
    "y_shift += yadj\n",
    "z_shift += zadj\n",
    "\n",
    "print(x_shift, y_shift, z_shift)\n",
    "this_slave.shift(xadj, yadj)\n",
    "this_slave = this_slave.reproject(mst_reproj) # re-align the grid of the master, slave DEMs after shifting\n",
    "\n",
    "this_slave = this_slave.copy(new_raster=this_slave.img + zadj) # shift the DEM in the z direction\n",
    "\n",
    "dH, xdata, ydata, sdata = ct.preprocess(np.ones(mst_reproj.img.shape) == 0, slope_geo.img, aspect_geo.img, mst_reproj, this_slave)\n",
    "fig4 = ct.false_hillshade(dH, 'DEM difference after first iteration.')"
   ]
  },
  {
   "cell_type": "markdown",
   "metadata": {},
   "source": [
    "## Second iteration\n",
    "\n",
    "Now, we can estimate the new shift between the rasters, and apply the new shift."
   ]
  },
  {
   "cell_type": "code",
   "execution_count": null,
   "metadata": {},
   "outputs": [],
   "source": [
    "xadj, yadj, zadj, fig5 = ct.coreg_fitting(xdata, ydata, sdata, 'Iteration 2')\n",
    "\n",
    "x_shift += xadj\n",
    "y_shift += yadj\n",
    "z_shift += zadj\n",
    "\n",
    "print(x_shift, y_shift, z_shift)\n",
    "\n",
    "this_slave.shift(xadj, yadj)\n",
    "\n",
    "this_slave = this_slave.reproject(mst_reproj)\n",
    "this_slave = this_slave.copy(new_raster=this_slave.img + zadj) # shift the DEM in the z direction\n",
    "\n",
    "dH, xdata, ydata, sdata = ct.preprocess(np.ones(mst_reproj.img.shape) == 0, slope_geo.img, aspect_geo.img, mst_reproj, this_slave)\n",
    "fig4 = ct.false_hillshade(dH, 'DEM difference after second iteration.')"
   ]
  },
  {
   "cell_type": "markdown",
   "metadata": {},
   "source": [
    "## Third iteration\n",
    "\n",
    "Now, we can estimate the new shift between the rasters, and apply the new shift."
   ]
  },
  {
   "cell_type": "code",
   "execution_count": null,
   "metadata": {
    "scrolled": false
   },
   "outputs": [],
   "source": [
    "dH, xdata, ydata, sdata = ct.preprocess(np.ones(mst_reproj.img.shape) == 0, slope_geo.img, aspect_geo.img, mst_reproj, this_slave)\n",
    "xadj, yadj, zadj, fig5 = ct.coreg_fitting(xdata, ydata, sdata, 'Iteration 3')\n",
    "\n",
    "x_shift += xadj\n",
    "y_shift += yadj\n",
    "z_shift += zadj\n",
    "\n",
    "print(x_shift, y_shift, z_shift)\n",
    "\n",
    "this_slave.shift(xadj, yadj)\n",
    "\n",
    "this_slave = this_slave.reproject(mst_reproj)\n",
    "this_slave = this_slave.copy(new_raster=this_slave.img + zadj) # shift the DEM in the z direction\n",
    "\n",
    "dH, xdata, ydata, sdata = ct.preprocess(np.ones(mst_reproj.img.shape) == 0, slope_geo.img, aspect_geo.img, mst_reproj, this_slave)\n",
    "fig5 = ct.false_hillshade(dH, 'DEM difference after third iteration.')\n"
   ]
  },
  {
   "cell_type": "markdown",
   "metadata": {},
   "source": [
    "So after three iterations, we're no longer seeing a significant pattern in the aspect vs. normalized dH plot, so we don't really need to do any more iterations. The final shift that we estimate between the DEMs is approximately -47 meters in the x direction, 7 meters in the y direction, and 15.4 meters in the z direction.\n",
    "\n",
    "## Final plots and saving the results\n",
    "\n",
    "Now, we can plot a histogram of the elevation difference distributions for the DEMs pre-coregistration (black) and post-coregistration (red), save the co-registered DEM, and re-display the difference map from before."
   ]
  },
  {
   "cell_type": "code",
   "execution_count": null,
   "metadata": {},
   "outputs": [],
   "source": [
    "ct.final_histogram(init_dh_geo.img, dH.img) # plot the difference distributions between the two DEMs pre- and post- co-registration.\n",
    "\n",
    "this_slave.write('data/AST14DMO_00308122004104803_DEM_adj.tif') # save the shifted slave DEM"
   ]
  },
  {
   "cell_type": "code",
   "execution_count": null,
   "metadata": {},
   "outputs": [],
   "source": [
    "final_dh_geo = slave_dem.copy(new_raster=mst_reproj.img - this_slave.img)\n",
    "\n",
    "# display the new difference image. for more info, see the documentation\n",
    "fig1 = final_dh_geo.display(fig=plt.figure(figsize=(8,8)), cmap='RdYlBu', vmin=-20, vmax=20)\n",
    "fig1.gca().set_xlabel('utm easting (m)')\n",
    "fig1.gca().set_ylabel('utm northing (m)')\n",
    "\n",
    "# add a colorbar and set the label\n",
    "cb = plt.colorbar(); cb.set_label('elevation difference (m)')"
   ]
  }
 ],
 "metadata": {
  "kernelspec": {
   "display_name": "Python 3",
   "language": "python",
   "name": "python3"
  },
  "language_info": {
   "codemirror_mode": {
    "name": "ipython",
    "version": 3
   },
   "file_extension": ".py",
   "mimetype": "text/x-python",
   "name": "python",
   "nbconvert_exporter": "python",
   "pygments_lexer": "ipython3",
   "version": "3.10.5"
  }
 },
 "nbformat": 4,
 "nbformat_minor": 2
}
